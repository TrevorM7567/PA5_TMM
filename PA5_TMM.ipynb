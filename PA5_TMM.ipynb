{
 "cells": [
  {
   "cell_type": "code",
   "execution_count": 9,
   "id": "7b3519ba",
   "metadata": {},
   "outputs": [
    {
     "name": "stdout",
     "output_type": "stream",
     "text": [
      "Enter an English word to translate to Norwegian. Enter 0 to stop: tall\n",
      "That word is not in this dictionary\n"
     ]
    }
   ],
   "source": [
    "Translator={'hello': 'hallo',\n",
    "        'goodbye': 'ha det',\n",
    "       'food': 'mat',\n",
    "       'movie': 'film',\n",
    "       'game': 'spill',\n",
    "           'talk': 'snakke',\n",
    "           'home': 'hjem',\n",
    "           'show': 'forestilling',\n",
    "            'car': 'bil',\n",
    "            'plane': 'flyet',\n",
    "            'hike': 'ga',\n",
    "            'gym': 'treningsstudio',\n",
    "            'marvel': 'vidunder',\n",
    "            'dog': 'hund',\n",
    "            'cat': 'katt',\n",
    "            'moose': 'elg',\n",
    "            'school': 'skole',\n",
    "            'church': 'kirke',\n",
    "            'viking': 'viking',\n",
    "            'friend': 'venn',\n",
    "           }\n",
    "word=input(\"Enter an English word to translate to Norwegian. Enter 0 to stop: \")\n",
    "if input==Translator.keys:\n",
    "    print(Translator.values)\n",
    "else:\n",
    "    print(\"That word is not in this dictionary\")"
   ]
  },
  {
   "cell_type": "code",
   "execution_count": 2,
   "id": "6349219b",
   "metadata": {},
   "outputs": [],
   "source": [
    "weather={'1': '82',\n",
    "        '2': '81',\n",
    "       '3': '81',\n",
    "       '4': '81',\n",
    "       '5': '77',\n",
    "           '6': '84',\n",
    "           '7': '84',\n",
    "           '8': '79',\n",
    "            '9': '77',\n",
    "            '10': '79',\n",
    "            '11': '82',\n",
    "            '12': '82',\n",
    "            '13': '88',\n",
    "            '14': '86',\n",
    "            '15': '79',\n",
    "            '16': '81',\n",
    "            '17': '86',\n",
    "            '18': '86',\n",
    "            '19': '84',\n",
    "            '20': '75',\n",
    "         '21': '77',\n",
    "         '22': '61',\n",
    "         '23': '68',\n",
    "         '24': '73',\n",
    "         '25': '70',\n",
    "         '26': '75',\n",
    "         '27': '82',\n",
    "         '28': '84',\n",
    "         '29': '86',\n",
    "         '30': '82',\n",
    "           }"
   ]
  },
  {
   "cell_type": "code",
   "execution_count": 10,
   "id": "33ea7d9b",
   "metadata": {},
   "outputs": [],
   "source": [
    "set1={1,2,3,4,5}\n",
    "set2={3,4,5,6,7}"
   ]
  },
  {
   "cell_type": "markdown",
   "id": "87a8f14e",
   "metadata": {},
   "source": [
    "symmetric difference: shows the elements that are not in common with each other in both sets (^)"
   ]
  },
  {
   "cell_type": "code",
   "execution_count": 11,
   "id": "69fb8903",
   "metadata": {},
   "outputs": [
    {
     "data": {
      "text/plain": [
       "{1, 2, 6, 7}"
      ]
     },
     "execution_count": 11,
     "metadata": {},
     "output_type": "execute_result"
    }
   ],
   "source": [
    "set1^set2"
   ]
  },
  {
   "cell_type": "markdown",
   "id": "e6b7b3e4",
   "metadata": {},
   "source": [
    ".isdisjoint: returns true when no items in set1 are in set2"
   ]
  },
  {
   "cell_type": "code",
   "execution_count": 12,
   "id": "1cdc871e",
   "metadata": {},
   "outputs": [
    {
     "data": {
      "text/plain": [
       "False"
      ]
     },
     "execution_count": 12,
     "metadata": {},
     "output_type": "execute_result"
    }
   ],
   "source": [
    "set1.isdisjoint(set2)"
   ]
  },
  {
   "cell_type": "markdown",
   "id": "c2b9ff62",
   "metadata": {},
   "source": [
    "intersection_update: removes items that are not present in both sets (&=)"
   ]
  },
  {
   "cell_type": "code",
   "execution_count": 14,
   "id": "8d0d88a4",
   "metadata": {},
   "outputs": [
    {
     "data": {
      "text/plain": [
       "{3, 4, 5}"
      ]
     },
     "execution_count": 14,
     "metadata": {},
     "output_type": "execute_result"
    }
   ],
   "source": [
    "set1&=set2\n",
    "set1"
   ]
  },
  {
   "cell_type": "markdown",
   "id": "4d3e6075",
   "metadata": {},
   "source": [
    "symmetric_difference:  returns a set that contains all items from both sets, but not the items that are present in both sets (^=)"
   ]
  },
  {
   "cell_type": "code",
   "execution_count": 15,
   "id": "46a701eb",
   "metadata": {},
   "outputs": [
    {
     "data": {
      "text/plain": [
       "{6, 7}"
      ]
     },
     "execution_count": 15,
     "metadata": {},
     "output_type": "execute_result"
    }
   ],
   "source": [
    "set1^=set2\n",
    "set1"
   ]
  },
  {
   "cell_type": "markdown",
   "id": "328e342d",
   "metadata": {},
   "source": [
    "remove(), discard(), and pop(): gets rid of items in sets"
   ]
  },
  {
   "cell_type": "code",
   "execution_count": 16,
   "id": "ccb80225",
   "metadata": {},
   "outputs": [
    {
     "data": {
      "text/plain": [
       "{6, 7}"
      ]
     },
     "execution_count": 16,
     "metadata": {},
     "output_type": "execute_result"
    }
   ],
   "source": [
    "set1.discard(1)\n",
    "set1"
   ]
  },
  {
   "cell_type": "code",
   "execution_count": 17,
   "id": "7d24dff1",
   "metadata": {},
   "outputs": [
    {
     "data": {
      "text/plain": [
       "{7}"
      ]
     },
     "execution_count": 17,
     "metadata": {},
     "output_type": "execute_result"
    }
   ],
   "source": [
    "set1.pop()\n",
    "set1"
   ]
  },
  {
   "cell_type": "code",
   "execution_count": 18,
   "id": "24e41792",
   "metadata": {},
   "outputs": [
    {
     "data": {
      "text/plain": [
       "{3, 4, 5, 6}"
      ]
     },
     "execution_count": 18,
     "metadata": {},
     "output_type": "execute_result"
    }
   ],
   "source": [
    "set2.remove(7)\n",
    "set2"
   ]
  }
 ],
 "metadata": {
  "kernelspec": {
   "display_name": "Python 3",
   "language": "python",
   "name": "python3"
  },
  "language_info": {
   "codemirror_mode": {
    "name": "ipython",
    "version": 3
   },
   "file_extension": ".py",
   "mimetype": "text/x-python",
   "name": "python",
   "nbconvert_exporter": "python",
   "pygments_lexer": "ipython3",
   "version": "3.8.8"
  }
 },
 "nbformat": 4,
 "nbformat_minor": 5
}
